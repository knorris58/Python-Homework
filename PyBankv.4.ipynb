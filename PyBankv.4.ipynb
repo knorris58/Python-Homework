{
 "cells": [
  {
   "cell_type": "code",
   "execution_count": 80,
   "metadata": {},
   "outputs": [],
   "source": [
    "import os\n",
    "import csv\n",
    "\n",
    "budget_data = os.path.join(\"Resources\",\"budget_data.csv\")"
   ]
  },
  {
   "cell_type": "code",
   "execution_count": 81,
   "metadata": {},
   "outputs": [
    {
     "name": "stdout",
     "output_type": "stream",
     "text": [
      "Header: Date,Profit/Losses\r\n",
      "\n",
      "total months: 86\n",
      "Total: $ 38382578\n",
      "[116771, -662642, -391430, 379920, 212354, 510239, -428211, -821271, 693918, 416278, -974163, 860159, -1115009, 1033048, 95318, -308093, 99052, -521393, 605450, 231727, -65187, -702716, 177975, -1065544, 1926159, -917805, 898730, -334262, -246499, -64055, -1529236, 1497596, 304914, -635801, 398319, -183161, -37864, -253689, 403655, 94168, 306877, -83000, 210462, -2196167, 1465222, -956983, 1838447, -468003, -64602, 206242, -242155, -449079, 315198, 241099, 111540, 365942, -219310, -368665, 409837, 151210, -110244, -341938, -1212159, 683246, -70825, 335594, 417334, -272194, -236462, 657432, -211262, -128237, -1750387, 925441, 932089, -311434, 267252, -1876758, 1733696, 198551, -665765, 693229, -734926, 77242, 532869]\n",
      "-2315.12\n",
      "1926159\n",
      "Sep-2016\n",
      "Greatest Increase in Profits: Sep-2016 ($1926159)\n",
      "-2196167\n",
      "Apr-2010\n"
     ]
    }
   ],
   "source": [
    "with open(budget_data, newline=\"\") as csvfile:\n",
    "    csvreader = csv.reader(csvfile, delimiter=\",\")\n",
    "    csv_header = next(csvfile)\n",
    "    print(f\"Header: {csv_header}\")\n",
    "\n",
    "    P=[]\n",
    "    months=[]\n",
    "    revenue_change=[]\n",
    "    \n",
    "    for rows in csvreader:\n",
    "        P.append(int(rows[1]))\n",
    "        months.append(rows[0])\n",
    "        \n",
    "#The total number of months included in the dataset\n",
    "        \n",
    "    total_months = len(months)\n",
    "    print(\"total months: \" + str(total_months))\n",
    "\n",
    "#The net total amount of \"Profit/Losses\" over the entire period\n",
    "    total_profit=str(sum(P))\n",
    "    #print(total_profit)\n",
    "    print(f'Total: $ {total_profit}')\n",
    "\n",
    "#The average of the changes in \"Profit/Losses\" over the entire period\n",
    "    for x in range(1, 86):\n",
    "        revenue_change.append((int(P[x]) - int(P[x-1])))\n",
    "    print(revenue_change)\n",
    "    average=sum(revenue_change)/len(revenue_change)\n",
    "    print(round(average,2))\n",
    "\n",
    "#The greatest increase in profits (date and amount) over the entire period\n",
    "    max_revenue=max(revenue_change)\n",
    "    print(max_revenue)\n",
    "    max_date=max(months)\n",
    "    print(max_date)\n",
    "    print(f'Greatest Increase in Profits: {max_date} (${max_revenue})')\n",
    "    \n",
    "#The greatest decrease in losses (date and amount) over the entire period\n",
    "    min_revenue=min(revenue_change)\n",
    "    print(min_revenue)\n",
    "    min_months=min(months)\n",
    "    print(min_months)\n",
    "    "
   ]
  },
  {
   "cell_type": "code",
   "execution_count": 83,
   "metadata": {},
   "outputs": [
    {
     "name": "stdout",
     "output_type": "stream",
     "text": [
      "Financial Analysis\n",
      "--------------------------\n",
      "Total Months: 86\n",
      "Total: $38382578\n",
      "Average Change: $-2315.12\n",
      "Greatest Increase in Profits: Sep-2016 ($1926159)\n",
      "Greatest Decrease in Profits: Apr-2010 ($-2196167)\n"
     ]
    }
   ],
   "source": [
    "print(\"Financial Analysis\")\n",
    "print(\"--------------------------\")\n",
    "print(f'Total Months: {total_months}')\n",
    "print(f'Total: ${total_profit}')\n",
    "print(f'Average Change: ${round(average,2)}')\n",
    "print(f'Greatest Increase in Profits: {max_date} (${max_revenue})')\n",
    "print(f'Greatest Decrease in Profits: {min_months} (${min_revenue})')\n"
   ]
  },
  {
   "cell_type": "code",
   "execution_count": 85,
   "metadata": {},
   "outputs": [],
   "source": [
    "#financial_analysis.to_csv(\"Resources\")"
   ]
  },
  {
   "cell_type": "code",
   "execution_count": null,
   "metadata": {},
   "outputs": [],
   "source": []
  }
 ],
 "metadata": {
  "kernelspec": {
   "display_name": "Python 3",
   "language": "python",
   "name": "python3"
  },
  "language_info": {
   "codemirror_mode": {
    "name": "ipython",
    "version": 3
   },
   "file_extension": ".py",
   "mimetype": "text/x-python",
   "name": "python",
   "nbconvert_exporter": "python",
   "pygments_lexer": "ipython3",
   "version": "3.7.3"
  }
 },
 "nbformat": 4,
 "nbformat_minor": 2
}
